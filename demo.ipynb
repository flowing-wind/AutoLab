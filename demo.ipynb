{
 "cells": [
  {
   "cell_type": "code",
   "execution_count": 4,
   "id": "991e9049",
   "metadata": {},
   "outputs": [
    {
     "name": "stdout",
     "output_type": "stream",
     "text": [
      "Resource Manager of Visa Library at C:\\WINDOWS\\system32\\visa32.dll\n",
      "FTTCM8,SN20240315,V8.01\n",
      "295.7851\n"
     ]
    }
   ],
   "source": [
    "import pyvisa\n",
    "import time\n",
    "\n",
    "rm = pyvisa.ResourceManager()\n",
    "print(rm)\n",
    "Tmon8 = rm.open_resource('ASRL5::INSTR')\n",
    "Tmon8.baud_rate = 115200\n",
    "Tmon8.read_termination = '\\r\\n'\n",
    "Tmon8.write_termination = '\\r\\n'\n",
    "id = Tmon8.query('*IDN?')\n",
    "print (id)\n",
    "\n",
    "command_bytes = b'KRDG\\xa3\\xbf1'\n",
    "Tmon8.write_raw(command_bytes)\n",
    "temperature = Tmon8.read()\n",
    "print(temperature)"
   ]
  },
  {
   "cell_type": "code",
   "execution_count": null,
   "id": "c89afee7",
   "metadata": {},
   "outputs": [],
   "source": []
  }
 ],
 "metadata": {
  "kernelspec": {
   "display_name": "AutoLab",
   "language": "python",
   "name": "python3"
  },
  "language_info": {
   "codemirror_mode": {
    "name": "ipython",
    "version": 3
   },
   "file_extension": ".py",
   "mimetype": "text/x-python",
   "name": "python",
   "nbconvert_exporter": "python",
   "pygments_lexer": "ipython3",
   "version": "3.11.13"
  }
 },
 "nbformat": 4,
 "nbformat_minor": 5
}
