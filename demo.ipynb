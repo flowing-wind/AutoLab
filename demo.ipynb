{
 "cells": [
  {
   "cell_type": "code",
   "execution_count": null,
   "id": "5f9d4791",
   "metadata": {},
   "outputs": [],
   "source": [
    "import pyvisa\n",
    "\n",
    "rm = pyvisa.ResourceManager()\n",
    "print (rm.list_resources())\n",
    "\n",
    "TC290 = rm.open_resource(\"ASRL3::INSTR\")\n",
    "TC290.baud_rate = 115200\n",
    "print (TC290.query('*IDN?'))\n",
    "\n",
    "TC290.write(\"*rst; status:preset; *cls\")"
   ]
  },
  {
   "cell_type": "code",
   "execution_count": null,
   "id": "3755ef5c",
   "metadata": {},
   "outputs": [],
   "source": [
    "def get_temp():\n",
    "    while(1):\n",
    "        temp = TC290.query(\"KRDG? A\")\n",
    "        print (temp)\n",
    "\n",
    "def set_temp(temp):\n",
    "    TC290.write(\"SETP 1, %.4f\" % temp)"
   ]
  }
 ],
 "metadata": {
  "kernelspec": {
   "display_name": "Lab-Protocol",
   "language": "python",
   "name": "python3"
  },
  "language_info": {
   "codemirror_mode": {
    "name": "ipython",
    "version": 3
   },
   "file_extension": ".py",
   "mimetype": "text/x-python",
   "name": "python",
   "nbconvert_exporter": "python",
   "pygments_lexer": "ipython3",
   "version": "3.12.11"
  }
 },
 "nbformat": 4,
 "nbformat_minor": 5
}
